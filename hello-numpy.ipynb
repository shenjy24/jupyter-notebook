{
 "cells": [
  {
   "cell_type": "code",
   "execution_count": 2,
   "id": "1b1a5478",
   "metadata": {},
   "outputs": [],
   "source": [
    "import numpy as np"
   ]
  },
  {
   "cell_type": "code",
   "execution_count": 3,
   "id": "0ba7df70",
   "metadata": {},
   "outputs": [],
   "source": [
    "matrix=[[1,2],[3,4],[5,6]]"
   ]
  },
  {
   "cell_type": "markdown",
   "id": "b6c597c9",
   "metadata": {},
   "source": [
    "创建二维数组"
   ]
  },
  {
   "cell_type": "code",
   "execution_count": 4,
   "id": "8d578204",
   "metadata": {},
   "outputs": [],
   "source": [
    "mtrx=np.array(matrix)"
   ]
  },
  {
   "cell_type": "code",
   "execution_count": 5,
   "id": "ac963b5e",
   "metadata": {},
   "outputs": [
    {
     "name": "stdout",
     "output_type": "stream",
     "text": [
      "[1 2]\n"
     ]
    }
   ],
   "source": [
    "print(mtrx[0])"
   ]
  },
  {
   "cell_type": "code",
   "execution_count": null,
   "id": "c9f7b257",
   "metadata": {},
   "outputs": [],
   "source": []
  }
 ],
 "metadata": {
  "kernelspec": {
   "display_name": "Python 3 (ipykernel)",
   "language": "python",
   "name": "python3"
  },
  "language_info": {
   "codemirror_mode": {
    "name": "ipython",
    "version": 3
   },
   "file_extension": ".py",
   "mimetype": "text/x-python",
   "name": "python",
   "nbconvert_exporter": "python",
   "pygments_lexer": "ipython3",
   "version": "3.9.16"
  }
 },
 "nbformat": 4,
 "nbformat_minor": 5
}
